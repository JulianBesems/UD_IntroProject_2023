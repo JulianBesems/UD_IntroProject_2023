{
 "cells": [
  {
   "cell_type": "markdown",
   "id": "38e188a5",
   "metadata": {},
   "source": [
    "# Exercise 00\n",
    "Write a piece of code that allocates a list of 20 integers and initializes each element by its index multiplied by 5. Print the result."
   ]
  },
  {
   "cell_type": "code",
   "execution_count": 32,
   "id": "9d0c15a5",
   "metadata": {},
   "outputs": [],
   "source": [
    "myList = []\n",
    "for i in range(20):\n",
    "    myList.append(i*5)"
   ]
  },
  {
   "cell_type": "code",
   "execution_count": 33,
   "id": "b767f47a",
   "metadata": {},
   "outputs": [
    {
     "data": {
      "text/plain": [
       "[0, 5, 10, 15, 20, 25, 30, 35, 40, 45, 50, 55, 60, 65, 70, 75, 80, 85, 90, 95]"
      ]
     },
     "execution_count": 33,
     "metadata": {},
     "output_type": "execute_result"
    }
   ],
   "source": [
    "myList"
   ]
  },
  {
   "cell_type": "markdown",
   "id": "529d91ae",
   "metadata": {},
   "source": [
    "# Exercise 01\n",
    "Define a function that takes an integer as input, prints  all integers that it is divisable by, and returns the largest one."
   ]
  },
  {
   "cell_type": "code",
   "execution_count": 16,
   "id": "e6975a46",
   "metadata": {},
   "outputs": [],
   "source": [
    "def dividers(n):\n",
    "    div = 1\n",
    "    for i in range(1,int(n/2)+1):\n",
    "        if n%i==0:\n",
    "            div = i\n",
    "            print(i)\n",
    "    return div"
   ]
  },
  {
   "cell_type": "code",
   "execution_count": 17,
   "id": "3f47bedf",
   "metadata": {},
   "outputs": [
    {
     "name": "stdout",
     "output_type": "stream",
     "text": [
      "1\n",
      "2\n",
      "4\n",
      "5\n",
      "10\n"
     ]
    },
    {
     "data": {
      "text/plain": [
       "10"
      ]
     },
     "execution_count": 17,
     "metadata": {},
     "output_type": "execute_result"
    }
   ],
   "source": [
    "dividers(20)"
   ]
  },
  {
   "cell_type": "markdown",
   "id": "cfbe30d4",
   "metadata": {},
   "source": [
    "# Exercise 02\n",
    "- create a dictionary with 6 keys and values of your choice\n",
    "- write a function that takes a dictionary and a value as input and returns whether the value occurs as a key in the dictionary\n",
    "- write a function that takes a dictionary as input, and returns the dictionary but the keys are swapped with their values (resolve the issue if a value occurs twice!)"
   ]
  },
  {
   "cell_type": "code",
   "execution_count": 20,
   "id": "bf51a513",
   "metadata": {},
   "outputs": [],
   "source": [
    "neueNationalGalerie = {'name':'Neue Nationalgalerie', 'type':'Gallery', 'location':'Berlin', \n",
    "        'year':1968, 'Architect':'Ludwig Mies van der Rohe', \n",
    "        'image':'https://upload.wikimedia.org/wikipedia/commons/thumb/c/c7/Berlin_Neue_Nationalgalerie_asv2021-11_img1.jpg/2880px-Berlin_Neue_Nationalgalerie_asv2021-11_img1.jpg'}"
   ]
  },
  {
   "cell_type": "code",
   "execution_count": 21,
   "id": "e30564ec",
   "metadata": {},
   "outputs": [
    {
     "name": "stdout",
     "output_type": "stream",
     "text": [
      "{'name': 'Neue Nationalgalerie', 'type': 'Gallery', 'location': 'Berlin', 'year': 1968, 'Architect': 'Ludwig Mies van der Rohe', 'image': 'https://upload.wikimedia.org/wikipedia/commons/thumb/c/c7/Berlin_Neue_Nationalgalerie_asv2021-11_img1.jpg/2880px-Berlin_Neue_Nationalgalerie_asv2021-11_img1.jpg'}\n"
     ]
    }
   ],
   "source": [
    "print(neueNationalGalerie)"
   ]
  },
  {
   "cell_type": "code",
   "execution_count": 45,
   "id": "6b08382b",
   "metadata": {},
   "outputs": [],
   "source": [
    "def inDictionary(d,k):\n",
    "    for t in d.keys():\n",
    "        if k == t:\n",
    "            return True\n",
    "    return False"
   ]
  },
  {
   "cell_type": "code",
   "execution_count": 43,
   "id": "05e809fa",
   "metadata": {},
   "outputs": [
    {
     "name": "stdout",
     "output_type": "stream",
     "text": [
      "name name\n"
     ]
    },
    {
     "data": {
      "text/plain": [
       "True"
      ]
     },
     "execution_count": 43,
     "metadata": {},
     "output_type": "execute_result"
    }
   ],
   "source": [
    "inDictionary(neueNationalGalerie, 'name')"
   ]
  },
  {
   "cell_type": "code",
   "execution_count": 26,
   "id": "fb2c8d7e",
   "metadata": {},
   "outputs": [],
   "source": [
    "def swapDictionary(d):\n",
    "    newDict = {}\n",
    "    for k in d.keys():\n",
    "        newDict[d[k]]=k\n",
    "    return newDict"
   ]
  },
  {
   "cell_type": "code",
   "execution_count": 27,
   "id": "f5b48f7f",
   "metadata": {},
   "outputs": [
    {
     "data": {
      "text/plain": [
       "{'Neue Nationalgalerie': 'name',\n",
       " 'Gallery': 'type',\n",
       " 'Berlin': 'location',\n",
       " 1968: 'year',\n",
       " 'Ludwig Mies van der Rohe': 'Architect',\n",
       " 'https://upload.wikimedia.org/wikipedia/commons/thumb/c/c7/Berlin_Neue_Nationalgalerie_asv2021-11_img1.jpg/2880px-Berlin_Neue_Nationalgalerie_asv2021-11_img1.jpg': 'image'}"
      ]
     },
     "execution_count": 27,
     "metadata": {},
     "output_type": "execute_result"
    }
   ],
   "source": [
    "swapDictionary(neueNationalGalerie)"
   ]
  },
  {
   "cell_type": "code",
   "execution_count": 46,
   "id": "ed3a3962",
   "metadata": {},
   "outputs": [
    {
     "data": {
      "text/plain": [
       "{1: 'a', 2: ['b', 'd'], 3: 'c'}"
      ]
     },
     "execution_count": 46,
     "metadata": {},
     "output_type": "execute_result"
    }
   ],
   "source": [
    "dict1 = {'a':1, 'b':2, 'c':3, 'd':2}\n",
    "def swapDictionary(d):\n",
    "    newDict = {}\n",
    "    for k in d.keys():\n",
    "        if inDictionary(newDict,d[k]):\n",
    "            cv = newDict[d[k]]\n",
    "            nv = [cv, k]\n",
    "            newDict[d[k]]=nv\n",
    "        else:\n",
    "            newDict[d[k]]=k\n",
    "    return newDict\n",
    "swapDictionary(dict1)"
   ]
  },
  {
   "cell_type": "markdown",
   "id": "b4b4e426",
   "metadata": {},
   "source": [
    "# Exercise 03\n",
    "Define a function that creates a dictionary of the first n fibonacci numbers as values paired with their indices as keys. "
   ]
  },
  {
   "cell_type": "code",
   "execution_count": 30,
   "id": "91f52a26",
   "metadata": {},
   "outputs": [],
   "source": [
    "def fibonacciDict(n):\n",
    "    fibonacci = {}\n",
    "    v1 = 0\n",
    "    v2 = 1\n",
    "    for i in range(n):\n",
    "        fibonacci[i]=v1\n",
    "        t = v1 + v2\n",
    "        v1 = v2\n",
    "        v2 = t\n",
    "    return fibonacci"
   ]
  },
  {
   "cell_type": "code",
   "execution_count": 31,
   "id": "f2cbefbb",
   "metadata": {},
   "outputs": [
    {
     "data": {
      "text/plain": [
       "{0: 0, 1: 1, 2: 1, 3: 2, 4: 3, 5: 5, 6: 8, 7: 13, 8: 21, 9: 34}"
      ]
     },
     "execution_count": 31,
     "metadata": {},
     "output_type": "execute_result"
    }
   ],
   "source": [
    "fibonacciDict(10)"
   ]
  },
  {
   "cell_type": "code",
   "execution_count": null,
   "id": "39fc45f5",
   "metadata": {},
   "outputs": [],
   "source": []
  }
 ],
 "metadata": {
  "kernelspec": {
   "display_name": "Python 3 (ipykernel)",
   "language": "python",
   "name": "python3"
  },
  "language_info": {
   "codemirror_mode": {
    "name": "ipython",
    "version": 3
   },
   "file_extension": ".py",
   "mimetype": "text/x-python",
   "name": "python",
   "nbconvert_exporter": "python",
   "pygments_lexer": "ipython3",
   "version": "3.8.13"
  }
 },
 "nbformat": 4,
 "nbformat_minor": 5
}
